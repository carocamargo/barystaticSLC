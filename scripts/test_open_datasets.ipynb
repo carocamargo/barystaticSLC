{
 "cells": [
  {
   "cell_type": "code",
   "execution_count": 1,
   "metadata": {},
   "outputs": [],
   "source": [
    "\n",
    "import pandas as pd\n",
    "import xarray as xr\n"
   ]
  },
  {
   "cell_type": "code",
   "execution_count": 2,
   "metadata": {},
   "outputs": [
    {
     "name": "stdout",
     "output_type": "stream",
     "text": [
      "<xarray.Dataset>\n",
      "Dimensions:           (lat: 180, lon: 360, name: 16, nm: 8, unc_type: 3)\n",
      "Coordinates:\n",
      "  * lon               (lon) float64 0.0 1.0 2.0 3.0 ... 356.0 357.0 358.0 359.0\n",
      "  * lat               (lat) float64 -89.5 -88.5 -87.5 -86.5 ... 87.5 88.5 89.5\n",
      "  * name              (name) object 'AIS_CSR' 'AIS_IMB' ... 'LWS_JPL' 'LWS_WGP'\n",
      "  * unc_type          (unc_type) object 'temporal' 'spatial' 'intrinsic'\n",
      "  * nm                (nm) object 'WN' 'PL' 'PLWN' 'AR1' ... 'AR9' 'ARF' 'GGMWN'\n",
      "Data variables:\n",
      "    trend             (name, lat, lon) float64 ...\n",
      "    uncs              (unc_type, name, lat, lon) float64 ...\n",
      "    unc_total         (name, lat, lon) float64 ...\n",
      "    nm_sel            (name, lat, lon) float64 ...\n",
      "    spatial_unc_norm  (name, lat, lon) float64 ...\n"
     ]
    }
   ],
   "source": [
    "path='../data/output/'\n",
    "\n",
    "# periods\n",
    "t0=2003;t1=2016\n",
    "t0_a=1993;t1_a=2016\n",
    "ds=xr.open_dataset(path+'final_dataset_{}-{}.nc'.format(t0,t1))\n",
    "print(ds)\n"
   ]
  },
  {
   "cell_type": "code",
   "execution_count": 3,
   "metadata": {},
   "outputs": [
    {
     "name": "stdout",
     "output_type": "stream",
     "text": [
      "<xarray.Dataset>\n",
      "Dimensions:           (lat: 180, lon: 360, name: 8, nm: 8, unc_type: 3)\n",
      "Coordinates:\n",
      "  * lon               (lon) float64 0.0 1.0 2.0 3.0 ... 356.0 357.0 358.0 359.0\n",
      "  * lat               (lat) float64 -89.5 -88.5 -87.5 -86.5 ... 87.5 88.5 89.5\n",
      "  * name              (name) object 'AIS_IMB' 'AIS_UCI' ... 'LWS_GWB' 'LWS_WGP'\n",
      "  * unc_type          (unc_type) object 'temporal' 'spatial' 'intrinsic'\n",
      "  * nm                (nm) object 'WN' 'PL' 'PLWN' 'AR1' ... 'AR9' 'ARF' 'GGMWN'\n",
      "Data variables:\n",
      "    trend             (name, lat, lon) float64 ...\n",
      "    uncs              (unc_type, name, lat, lon) float64 ...\n",
      "    unc_total         (name, lat, lon) float64 ...\n",
      "    nm_sel            (name, lat, lon) float64 ...\n",
      "    spatial_unc_norm  (name, lat, lon) float64 ...\n"
     ]
    }
   ],
   "source": [
    "ds_a=xr.open_dataset(path+'final_dataset_{}-{}.nc'.format(t0_a,t1_a))\n",
    "print(ds_a)"
   ]
  },
  {
   "cell_type": "code",
   "execution_count": 4,
   "metadata": {},
   "outputs": [
    {
     "name": "stdout",
     "output_type": "stream",
     "text": [
      "<xarray.Dataset>\n",
      "Dimensions:    (lat: 180, lon: 360)\n",
      "Coordinates:\n",
      "  * lon        (lon) float64 0.0 1.0 2.0 3.0 4.0 ... 356.0 357.0 358.0 359.0\n",
      "  * lat        (lat) float64 -89.5 -88.5 -87.5 -86.5 ... 86.5 87.5 88.5 89.5\n",
      "Data variables:\n",
      "    land_mask  (lat, lon) float64 ...\n",
      "Attributes:\n",
      "    CDI:                        Climate Data Interface version 1.9.8 (https:/...\n",
      "    Conventions:                CF-1.5\n",
      "    history:                    Tue Nov 10 09:51:52 2020: cdo remapbil,r360x1...\n",
      "    institution:                JPL\n",
      "    Metadata_Conventions:       Unidata Dataset Discovery v1.0\n",
      "    standard_name_vocabulary:   CF-1.5\n",
      "    title:                      CRI filter land mask\n",
      "    summary:                    Land mask which is used in combination with t...\n",
      "    filename:                   NETCDF/RL06Mv2/LAND_MASK.CRIv01.nc\n",
      "    variable:                   land_mask\n",
      "    creator_name:               Alex Gardner\n",
      "    creator_email:              alex.s.gardner@jpl.nasa.gov\n",
      "    project:                    GRACE\n",
      "    geospatial_lat_min:         -89.75\n",
      "    geospatial_lat_max:         89.75\n",
      "    geospatial_lat_units:       degrees_north\n",
      "    geospatial_lat_resolution:  0.5 degree grid\n",
      "    geospatial_lon_min:         0.25\n",
      "    geospatial_lon_max:         359.75\n",
      "    geospatial_lon_units:       degrees_east\n",
      "    geospatial_lon_resolution:  0.5 degree grid\n",
      "    DATE_CREATED:               25-Nov-2019 10:03:31\n",
      "    CDO:                        Climate Data Operators version 1.9.8 (https:/...\n"
     ]
    },
    {
     "data": {
      "text/plain": [
       "<matplotlib.collections.QuadMesh at 0x7fe35ef28d10>"
      ]
     },
     "execution_count": 4,
     "metadata": {},
     "output_type": "execute_result"
    },
    {
     "data": {
      "image/png": "[encoded data removed]",
      "text/plain": [
       "<Figure size 432x288 with 2 Axes>"
      ]
     },
     "metadata": {
      "needs_background": "light"
     },
     "output_type": "display_data"
    }
   ],
   "source": [
    "mask=xr.open_dataset(path+'../LAND_MASK.CRI_360x180.nc')\n",
    "print(mask)\n",
    "mask.land_mask.plot()"
   ]
  },
  {
   "cell_type": "code",
   "execution_count": 5,
   "metadata": {},
   "outputs": [
    {
     "name": "stdout",
     "output_type": "stream",
     "text": [
      "     lon   lat                  City       Country  JPL_trend_tot  \\\n",
      "0   18.0 -33.5             Cape Town  SOUTH AFRICA            0.0   \n",
      "1  107.0  -6.5               Jakarta     INDONESIA            0.0   \n",
      "2  283.0 -12.5                  Lima          PERU            0.0   \n",
      "3   45.0   2.5  Muqdisho (Mogadishu)       SOMALIA            0.0   \n",
      "4  317.0 -22.5        Rio_de_Janeiro        BRAZIL            0.0   \n",
      "5    4.0  51.5             Rotterdam   NETHERLANDS            0.0   \n",
      "6  151.0 -33.5                Sydney     AUSTRALIA            0.0   \n",
      "7  140.0  35.5                 Tokyo         JAPAN            0.0   \n",
      "8  237.0  49.5             Vancouver        CANADA            0.0   \n",
      "9  284.0  36.5        Virginia Beach            US            0.0   \n",
      "\n",
      "   JPL_unc_tot  JPL_unc_temporal  JPL_unc_spatial  JPL_unc_intrinsic  \\\n",
      "0          0.0               0.0              0.0                0.0   \n",
      "1          0.0               0.0              0.0                0.0   \n",
      "2          0.0               0.0              0.0                0.0   \n",
      "3          0.0               0.0              0.0                0.0   \n",
      "4          0.0               0.0              0.0                0.0   \n",
      "5          0.0               0.0              0.0                0.0   \n",
      "6          0.0               0.0              0.0                0.0   \n",
      "7          0.0               0.0              0.0                0.0   \n",
      "8          0.0               0.0              0.0                0.0   \n",
      "9          0.0               0.0              0.0                0.0   \n",
      "\n",
      "   CSR_trend_tot  ...  UCI+GWB+ZMP_unc_temporal  UCI+GWB+ZMP_unc_spatial  \\\n",
      "0            0.0  ...                  0.643044                 0.152209   \n",
      "1            0.0  ...                  0.506093                 0.061460   \n",
      "2            0.0  ...                  0.410990                 0.078121   \n",
      "3            0.0  ...                  0.484646                 0.075696   \n",
      "4            0.0  ...                  0.264311                 0.076741   \n",
      "5            0.0  ...                  0.453175                 0.119337   \n",
      "6            0.0  ...                  0.606961                 0.071580   \n",
      "7            0.0  ...                  0.567126                 0.237825   \n",
      "8            0.0  ...                  0.512304                 0.122933   \n",
      "9            0.0  ...                  0.350048                 0.209253   \n",
      "\n",
      "   UCI+GWB+ZMP_unc_intrinsic  UCI+GWB+ZMP_unc_AIS  UCI+GWB+ZMP_unc_GIS  \\\n",
      "0                        0.0             0.119892             0.069243   \n",
      "1                        0.0             0.050995             0.063096   \n",
      "2                        0.0             0.046687             0.064192   \n",
      "3                        0.0             0.044905             0.059046   \n",
      "4                        0.0             0.041569             0.068925   \n",
      "5                        0.0             0.038951             0.016032   \n",
      "6                        0.0             0.035810             0.056165   \n",
      "7                        0.0             0.036365             0.069519   \n",
      "8                        0.0             0.085517             0.038546   \n",
      "9                        0.0             0.074887             0.031778   \n",
      "\n",
      "   UCI+GWB+ZMP_unc_GLA  UCI+GWB+ZMP_unc_LWS   msk  llat   llon  \n",
      "0             0.009881             0.646071   0.0 -33.5   18.0  \n",
      "1             0.003321             0.503303   0.0  -6.5  107.0  \n",
      "2             0.037898             0.408998   0.0 -12.5  283.0  \n",
      "3             0.003037             0.484871   0.0   2.5   45.0  \n",
      "4             0.007314             0.263092   0.0 -22.5  317.0  \n",
      "5             0.041270             0.464899  10.0  51.5    4.0  \n",
      "6             0.015313             0.607334   0.0 -33.5  151.0  \n",
      "7             0.004737             0.609930   1.0  35.5  140.0  \n",
      "8             0.029918             0.517565   0.0  49.5  237.0  \n",
      "9             0.017210             0.399257   0.0  36.5  284.0  \n",
      "\n",
      "[10 rows x 53 columns]\n"
     ]
    }
   ],
   "source": [
    "df= pd.read_pickle(path+'coastal_examples_10-{}-{}.p'.format(t0_a,t1_a))\n",
    "print(df)"
   ]
  },
  {
   "cell_type": "code",
   "execution_count": 6,
   "metadata": {},
   "outputs": [
    {
     "name": "stdout",
     "output_type": "stream",
     "text": [
      "         lon   lat  JPL_trend_tot  JPL_unc_tot  JPL_unc_temporal  \\\n",
      "0        0.0 -89.5            0.0          0.0               0.0   \n",
      "1        1.0 -89.5            0.0          0.0               0.0   \n",
      "2        2.0 -89.5            0.0          0.0               0.0   \n",
      "3        3.0 -89.5            0.0          0.0               0.0   \n",
      "4        4.0 -89.5            0.0          0.0               0.0   \n",
      "...      ...   ...            ...          ...               ...   \n",
      "64795  355.0  89.5            0.0          0.0               0.0   \n",
      "64796  356.0  89.5            0.0          0.0               0.0   \n",
      "64797  357.0  89.5            0.0          0.0               0.0   \n",
      "64798  358.0  89.5            0.0          0.0               0.0   \n",
      "64799  359.0  89.5            0.0          0.0               0.0   \n",
      "\n",
      "       JPL_unc_spatial  JPL_unc_intrinsic  CSR_trend_tot  CSR_unc_tot  \\\n",
      "0                  0.0                0.0            0.0          0.0   \n",
      "1                  0.0                0.0            0.0          0.0   \n",
      "2                  0.0                0.0            0.0          0.0   \n",
      "3                  0.0                0.0            0.0          0.0   \n",
      "4                  0.0                0.0            0.0          0.0   \n",
      "...                ...                ...            ...          ...   \n",
      "64795              0.0                0.0            0.0          0.0   \n",
      "64796              0.0                0.0            0.0          0.0   \n",
      "64797              0.0                0.0            0.0          0.0   \n",
      "64798              0.0                0.0            0.0          0.0   \n",
      "64799              0.0                0.0            0.0          0.0   \n",
      "\n",
      "       CSR_unc_temporal  ...  UCI+WGP_unc_LWS  UCI+GWB+ZMP_trend_tot  \\\n",
      "0                   0.0  ...         0.440483               1.060743   \n",
      "1                   0.0  ...         0.440477               1.060394   \n",
      "2                   0.0  ...         0.440471               1.060061   \n",
      "3                   0.0  ...         0.440466               1.059744   \n",
      "4                   0.0  ...         0.440461               1.059442   \n",
      "...                 ...  ...              ...                    ...   \n",
      "64795               0.0  ...         0.360165               0.424494   \n",
      "64796               0.0  ...         0.360165               0.424954   \n",
      "64797               0.0  ...         0.360165               0.425420   \n",
      "64798               0.0  ...         0.360163               0.425894   \n",
      "64799               0.0  ...         0.360161               0.426375   \n",
      "\n",
      "       UCI+GWB+ZMP_unc_tot  UCI+GWB+ZMP_unc_temporal  UCI+GWB+ZMP_unc_spatial  \\\n",
      "0                12.546242                  0.664456                12.528635   \n",
      "1                12.542364                  0.664430                12.524752   \n",
      "2                12.538313                  0.664405                12.520698   \n",
      "3                12.534092                  0.664380                12.516472   \n",
      "4                12.529701                  0.664355                12.512076   \n",
      "...                    ...                       ...                      ...   \n",
      "64795             0.595466                  0.570195                 0.171634   \n",
      "64796             0.595462                  0.570208                 0.171575   \n",
      "64797             0.595459                  0.570221                 0.171520   \n",
      "64798             0.595457                  0.570235                 0.171470   \n",
      "64799             0.595457                  0.570249                 0.171423   \n",
      "\n",
      "       UCI+GWB+ZMP_unc_intrinsic  UCI+GWB+ZMP_unc_AIS  UCI+GWB+ZMP_unc_GIS  \\\n",
      "0                            0.0            12.528849             0.060419   \n",
      "1                            0.0            12.524966             0.060417   \n",
      "2                            0.0            12.520911             0.060415   \n",
      "3                            0.0            12.516684             0.060412   \n",
      "4                            0.0            12.512288             0.060410   \n",
      "...                          ...                  ...                  ...   \n",
      "64795                        0.0             0.048534             0.079324   \n",
      "64796                        0.0             0.048467             0.079288   \n",
      "64797                        0.0             0.048402             0.079255   \n",
      "64798                        0.0             0.048338             0.079225   \n",
      "64799                        0.0             0.048276             0.079197   \n",
      "\n",
      "       UCI+GWB+ZMP_unc_GLA  UCI+GWB+ZMP_unc_LWS  \n",
      "0                 0.002056             0.657630  \n",
      "1                 0.002047             0.657618  \n",
      "2                 0.002038             0.657606  \n",
      "3                 0.002029             0.657595  \n",
      "4                 0.002020             0.657583  \n",
      "...                    ...                  ...  \n",
      "64795             0.085262             0.581947  \n",
      "64796             0.085276             0.581951  \n",
      "64797             0.085294             0.581955  \n",
      "64798             0.085317             0.581960  \n",
      "64799             0.085344             0.581965  \n",
      "\n",
      "[64800 rows x 48 columns]\n"
     ]
    }
   ],
   "source": [
    "df_global=pd.read_pickle(path+'OM_reconstructions_{}-{}.p'.format(t0_a,t1_a))\n",
    "print(df_global)"
   ]
  },
  {
   "cell_type": "code",
   "execution_count": 7,
   "metadata": {},
   "outputs": [
    {
     "name": "stdout",
     "output_type": "stream",
     "text": [
      "  combinations          dataset     trend  total_unc  temp_unc  temp_intr_unc  \\\n",
      "0          JPL            [JPL]  1.739089   0.244278  0.122085       0.125288   \n",
      "1          CSR            [CSR]  1.590078   0.233920  0.103653       0.103653   \n",
      "2      IMB+WGP       [IMB, WGP]  1.750093   0.242917  0.119474       0.122613   \n",
      "3  IMB+GWB+ZMP  [IMB, GWB, ZMP]  1.392727   0.250686  0.134569       0.137363   \n",
      "4      UCI+WGP       [UCI, WGP]  2.119112   0.235237  0.106590       0.106590   \n",
      "5  UCI+GWB+ZMP  [UCI, GWB, ZMP]  1.761745   0.243251  0.123272       0.123272   \n",
      "\n",
      "   trend_OLS  trend_OLS_reg                                 names  \n",
      "0   1.724461       1.714828  [AIS_JPL, GIS_JPL, GLA_JPL, LWS_JPL]  \n",
      "1   1.563072       1.555731  [AIS_CSR, GIS_CSR, GLA_CSR, LWS_CSR]  \n",
      "2   1.969397       1.872231  [AIS_IMB, GIS_IMB, GLA_WGP, LWS_WGP]  \n",
      "3   1.682053       1.374917  [AIS_IMB, GIS_IMB, GLA_ZMP, LWS_GWB]  \n",
      "4   2.150198       2.144766  [AIS_UCI, GIS_UCI, GLA_WGP, LWS_WGP]  \n",
      "5   1.862854       1.647453  [AIS_UCI, GIS_UCI, GLA_ZMP, LWS_GWB]  \n"
     ]
    }
   ],
   "source": [
    "df=pd.read_pickle(path+'global-final_combos-{}-{}_v2.p'.format(t0,t1))\n",
    "print(df)\n"
   ]
  },
  {
   "cell_type": "code",
   "execution_count": 8,
   "metadata": {},
   "outputs": [
    {
     "name": "stdout",
     "output_type": "stream",
     "text": [
      "         lon   lat  JPL_trend_tot  JPL_unc_tot  JPL_unc_temporal  \\\n",
      "0        0.0 -89.5       1.530472     4.193730          0.979790   \n",
      "1        1.0 -89.5       1.531467     4.189740          0.979792   \n",
      "2        2.0 -89.5       1.532447     4.185802          0.979795   \n",
      "3        3.0 -89.5       1.533412     4.181915          0.979797   \n",
      "4        4.0 -89.5       1.534363     4.178079          0.979800   \n",
      "...      ...   ...            ...          ...               ...   \n",
      "64795  355.0  89.5      -0.208612     0.862400          0.817177   \n",
      "64796  356.0  89.5      -0.206725     0.862356          0.817130   \n",
      "64797  357.0  89.5      -0.204826     0.862313          0.817084   \n",
      "64798  358.0  89.5      -0.202917     0.862273          0.817037   \n",
      "64799  359.0  89.5      -0.201000     0.862235          0.816991   \n",
      "\n",
      "       JPL_unc_spatial  JPL_unc_intrinsic  JPL_unc_AIS  JPL_unc_GIS  \\\n",
      "0             4.077038           0.071732     4.079606     0.074244   \n",
      "1             4.072933           0.071732     4.075503     0.074247   \n",
      "2             4.068882           0.071732     4.071452     0.074250   \n",
      "3             4.064882           0.071733     4.067453     0.074253   \n",
      "4             4.060935           0.071733     4.063506     0.074256   \n",
      "...                ...                ...          ...          ...   \n",
      "64795         0.267691           0.065552     0.160089     0.138480   \n",
      "64796         0.267691           0.065551     0.160079     0.138559   \n",
      "64797         0.267697           0.065549     0.160069     0.138643   \n",
      "64798         0.267710           0.065548     0.160059     0.138731   \n",
      "64799         0.267729           0.065546     0.160049     0.138824   \n",
      "\n",
      "       JPL_unc_GLA  ...  UCI+WGP_unc_LWS  UCI+GWB+ZMP_trend_tot  \\\n",
      "0         0.093722  ...         0.825379               1.771522   \n",
      "1         0.093721  ...         0.825355               1.771108   \n",
      "2         0.093720  ...         0.825332               1.770704   \n",
      "3         0.093719  ...         0.825309               1.770310   \n",
      "4         0.093718  ...         0.825287               1.769926   \n",
      "...            ...  ...              ...                    ...   \n",
      "64795     0.203208  ...         0.643358               0.444053   \n",
      "64796     0.203239  ...         0.643338               0.444794   \n",
      "64797     0.203274  ...         0.643317               0.445545   \n",
      "64798     0.203313  ...         0.643296               0.446304   \n",
      "64799     0.203356  ...         0.643275               0.447071   \n",
      "\n",
      "       UCI+GWB+ZMP_unc_tot  UCI+GWB+ZMP_unc_temporal  UCI+GWB+ZMP_unc_spatial  \\\n",
      "0                 4.226844                  1.115335                 4.077038   \n",
      "1                 4.222883                  1.115327                 4.072933   \n",
      "2                 4.218973                  1.115320                 4.068882   \n",
      "3                 4.215114                  1.115312                 4.064882   \n",
      "4                 4.211306                  1.115305                 4.060935   \n",
      "...                    ...                       ...                      ...   \n",
      "64795             0.971706                  0.934106                 0.267691   \n",
      "64796             0.971719                  0.934120                 0.267691   \n",
      "64797             0.971734                  0.934134                 0.267697   \n",
      "64798             0.971752                  0.934149                 0.267710   \n",
      "64799             0.971772                  0.934164                 0.267729   \n",
      "\n",
      "       UCI+GWB+ZMP_unc_intrinsic  UCI+GWB+ZMP_unc_AIS  UCI+GWB+ZMP_unc_GIS  \\\n",
      "0                            0.0             4.077062             0.019071   \n",
      "1                            0.0             4.072957             0.019072   \n",
      "2                            0.0             4.068905             0.019074   \n",
      "3                            0.0             4.064906             0.019075   \n",
      "4                            0.0             4.060958             0.019077   \n",
      "...                          ...                  ...                  ...   \n",
      "64795                        0.0             0.014410             0.128701   \n",
      "64796                        0.0             0.014406             0.128834   \n",
      "64797                        0.0             0.014402             0.128973   \n",
      "64798                        0.0             0.014399             0.129117   \n",
      "64799                        0.0             0.014395             0.129266   \n",
      "\n",
      "       UCI+GWB+ZMP_unc_GLA  UCI+GWB+ZMP_unc_LWS  \n",
      "0                 0.152272             1.104639  \n",
      "1                 0.152276             1.104631  \n",
      "2                 0.152279             1.104623  \n",
      "3                 0.152283             1.104616  \n",
      "4                 0.152286             1.104608  \n",
      "...                    ...                  ...  \n",
      "64795             0.201769             0.941663  \n",
      "64796             0.201802             0.941652  \n",
      "64797             0.201838             0.941641  \n",
      "64798             0.201879             0.941631  \n",
      "64799             0.201924             0.941621  \n",
      "\n",
      "[64800 rows x 56 columns]\n"
     ]
    }
   ],
   "source": [
    "df_reg = pd.read_pickle(path+'OM_reconstructions_{}-{}.p'.format(t0,t1))\n",
    "print(df_reg)"
   ]
  }
 ],
 "metadata": {
  "kernelspec": {
   "display_name": "Python 3",
   "language": "python",
   "name": "python3"
  },
  "language_info": {
   "codemirror_mode": {
    "name": "ipython",
    "version": 3
   },
   "file_extension": ".py",
   "mimetype": "text/x-python",
   "name": "python",
   "nbconvert_exporter": "python",
   "pygments_lexer": "ipython3",
   "version": "3.7.7"
  }
 },
 "nbformat": 4,
 "nbformat_minor": 4
}
